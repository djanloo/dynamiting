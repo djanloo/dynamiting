{
 "cells": [
  {
   "cell_type": "code",
   "execution_count": 1,
   "metadata": {},
   "outputs": [],
   "source": [
    "import pandas as pd\n",
    "import cnets\n",
    "from netgross.network import dirNetwork\n",
    "\n",
    "import intensity_fill\n",
    "\n",
    "%load_ext wurlitzer"
   ]
  },
  {
   "cell_type": "code",
   "execution_count": 2,
   "metadata": {},
   "outputs": [
    {
     "name": "stderr",
     "output_type": "stream",
     "text": [
      "/home/djanloo/Desktop/dynamiting/intensity_fill.py:9: SettingWithCopyWarning: \n",
      "A value is trying to be set on a copy of a slice from a DataFrame\n",
      "\n",
      "See the caveats in the documentation: https://pandas.pydata.org/pandas-docs/stable/user_guide/indexing.html#returning-a-view-versus-a-copy\n",
      "  df.intensity[df.intensity.isna()] = I_from_std(df[\"std\"][df.intensity.isna()])\n"
     ]
    }
   ],
   "source": [
    "df = pd.read_csv(\"ravdess_features.csv\")\n",
    "\n",
    "excluded = [\n",
    "    \"modality\",\n",
    "    \"vocal_channel\",\n",
    "    \"emotional_intensity\",\n",
    "    \"statement\",\n",
    "    \"repetition\",\n",
    "     \"actor\",\n",
    "    \"channels\",\n",
    "    \"sample_width\",\n",
    "    \"frame_rate\",\n",
    "    \"frame_width\",\n",
    "    \"sample_width\",\n",
    "    \"stft_max\",\n",
    "    \"frame_count\",\n",
    "    \"length_ms\",\n",
    "    \"mean\",\n",
    "    \"max\",\"min\",\n",
    "    # \"kur\",\"skew\",\n",
    "]\n",
    "df.drop(columns=excluded, inplace=True)\n",
    "df = intensity_fill.fill_intensity(df)\n",
    "for field in [\"sex\", \"emotion\"]:\n",
    "    df[field] = pd.Categorical(df[field]).codes"
   ]
  },
  {
   "cell_type": "markdown",
   "metadata": {},
   "source": [
    "normalization"
   ]
  },
  {
   "cell_type": "code",
   "execution_count": 3,
   "metadata": {},
   "outputs": [],
   "source": [
    "from sklearn.preprocessing import MinMaxScaler\n",
    "\n",
    "X = df.values\n",
    "\n",
    "scaler = MinMaxScaler()\n",
    "X_minmax = scaler.fit_transform(X)"
   ]
  },
  {
   "cell_type": "markdown",
   "metadata": {},
   "source": [
    "Manifold knn representation"
   ]
  },
  {
   "cell_type": "code",
   "execution_count": 11,
   "metadata": {},
   "outputs": [
    {
     "name": "stdout",
     "output_type": "stream",
     "text": [
      "\n",
      "cnets - \u001b[0;34mINFO\u001b[0m: requested knn with k = 50 of 2452 objects in R22\n",
      "|▒▒▒▒▒▒▒▒▒▒▒▒▒▒▒▒▒▒▒▒▒▒▒▒▒▒▒▒▒▒▒▒▒▒▒▒▒▒▒▒▒▒▒▒▒▒▒▒▒▒▒▒▒▒▒▒▒▒|98 %\u001b[0;33m\u001b[0m\u001b[0;32m\u001b[2K2K\n",
      "cnets - \u001b[0;34mINFO\u001b[0m: stupid_knn done.\n",
      "Network has 2452 elements and 118793 links (density =  4.0 %)\n"
     ]
    }
   ],
   "source": [
    "sparse_matrix = cnets.stupid_knn(X_minmax.tolist(), # note: first argument must be a python list\n",
    "                                50)\n",
    "print() # somehow jupyter notebooks mess up outputs\n",
    "net = dirNetwork.from_sparse(sparse_matrix)\n"
   ]
  },
  {
   "cell_type": "code",
   "execution_count": 14,
   "metadata": {},
   "outputs": [
    {
     "name": "stderr",
     "output_type": "stream",
     "text": [
      "\n",
      "cnets - \u001b[0;33mWARNING\u001b[0m: link(1012,1887) skipped - Distance must be a positive number (0.000000)\n",
      "\n",
      "cnets - \u001b[0;33mWARNING\u001b[0m: link(1887,1012) skipped - Distance must be a positive number (0.000000)\n",
      "\n",
      "cnets - \u001b[0;33mWARNING\u001b[0m: link(1887,1012) skipped - Distance must be a positive number (0.000000)\n",
      "\n",
      "cnets - \u001b[0;33mWARNING\u001b[0m: link(1012,1887) skipped - Distance must be a positive number (0.000000)\n"
     ]
    },
    {
     "name": "stdout",
     "output_type": "stream",
     "text": [
      "cnets - \u001b[0;34mINFO\u001b[0m: Generating network...\u001b[0m\u001b[0m\u001b[0m\u001b[0m\u001b[0m\tDone.\n",
      "cnets - \u001b[0;34mINFO\u001b[0m: Random initialization in R2...\u001b[0m\tDone.\n",
      "cnets - \u001b[0;34mINFO\u001b[0m: starting MDE with eps = 1.000, neg_eps = 0.050, Nsteps = 5\n",
      "|▒▒▒▒▒▒▒▒▒▒▒▒▒▒▒▒▒▒▒▒▒▒▒▒▒▒▒▒▒▒▒▒▒▒▒▒▒▒▒▒▒▒▒▒▒▒▒           |80 %\u001b[0;33m (D = 854.7657)\u001b[0m\u001b[0;32m\u001b[2KK\n",
      "cnets - \u001b[0;34mINFO\u001b[0m: MDE end\n",
      "\u001b[0mcnets - \u001b[0;34mINFO\u001b[0m: starting MDE with eps = 0.500, neg_eps = 0.010, Nsteps = 100\n",
      "|▒▒▒▒▒▒▒▒▒▒▒▒▒▒▒▒▒▒▒▒▒▒▒▒▒▒▒▒▒▒▒▒▒▒▒▒▒▒▒▒▒▒▒▒▒▒▒▒▒▒▒▒▒▒▒▒▒ |98 %\u001b[0;33m (D = 245.0162)\u001b[0m\u001b[0;32m\u001b[2K2K▒▒▒▒▒▒▒▒▒▒▒▒▒▒▒▒▒                               |48 %\u001b[0;33m (D = 254.3149)\u001b[0m\u001b[0;32m\u001b[2K�▒▒▒▒▒▒▒▒▒                       |60 %\u001b[0;33m (D = 249.1270)\u001b[0m\u001b[0;32m\u001b[2K\n",
      "cnets - \u001b[0;34mINFO\u001b[0m: MDE end\n",
      "\u001b[0mcnets - \u001b[0;34mINFO\u001b[0m: starting MDE with eps = 0.100, neg_eps = 0.000, Nsteps = 300\n",
      "|▒▒▒▒▒▒▒▒▒▒▒▒▒▒▒▒▒▒▒▒▒▒▒▒▒▒▒▒▒▒▒▒▒▒▒▒▒▒▒▒▒▒▒▒▒▒▒▒▒▒▒▒▒▒▒▒▒▒|99 %\u001b[0;33m (D = 15.6977)\u001b[0m\u001b[0;32m\u001b[2KKK\n",
      "cnets - \u001b[0;34mINFO\u001b[0m: MDE end\n",
      "\u001b[0m"
     ]
    }
   ],
   "source": [
    "net.initialize_embedding(dim=2)\n",
    "# note: first argument is a list of attractive factors, the second a list of repulsive ones and third a list of steps\n",
    "net.cMDE([1.0, 0.5, 0.1], [0.05, 0.01, 0.0], [5, 100, 300])"
   ]
  },
  {
   "cell_type": "code",
   "execution_count": 15,
   "metadata": {},
   "outputs": [
    {
     "name": "stdout",
     "output_type": "stream",
     "text": [
      "Plot started:\n",
      "Getting graphics..\tDone.\n"
     ]
    }
   ],
   "source": [
    "from netgross import netplot\n",
    "from matplotlib import pyplot as plt\n",
    "\n",
    "net.values = df.emotion\n",
    "netplot.plot_lines = False # the denser the network, the more time-expensive plotting lines is\n",
    "netplot.line_kwargs['lw'] = 0.4\n",
    "netplot.plot_net(net)\n",
    "plt.show()"
   ]
  },
  {
   "cell_type": "code",
   "execution_count": null,
   "metadata": {},
   "outputs": [],
   "source": []
  }
 ],
 "metadata": {
  "kernelspec": {
   "display_name": "Python 3.10.4 ('dynamiting-oYIjB6ZE')",
   "language": "python",
   "name": "python3"
  },
  "language_info": {
   "codemirror_mode": {
    "name": "ipython",
    "version": 3
   },
   "file_extension": ".py",
   "mimetype": "text/x-python",
   "name": "python",
   "nbconvert_exporter": "python",
   "pygments_lexer": "ipython3",
   "version": "3.10.4"
  },
  "orig_nbformat": 4,
  "vscode": {
   "interpreter": {
    "hash": "34133c038c72c4258b9c1f21b48f2694561ff50c77c790ac74cdf754a813ead0"
   }
  }
 },
 "nbformat": 4,
 "nbformat_minor": 2
}
