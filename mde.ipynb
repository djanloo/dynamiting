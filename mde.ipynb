{
 "cells": [
  {
   "cell_type": "code",
   "execution_count": 1,
   "metadata": {},
   "outputs": [
    {
     "ename": "ModuleNotFoundError",
     "evalue": "No module named 'cnets'",
     "output_type": "error",
     "traceback": [
      "\u001b[0;31m---------------------------------------------------------------------------\u001b[0m",
      "\u001b[0;31mModuleNotFoundError\u001b[0m                       Traceback (most recent call last)",
      "Cell \u001b[0;32mIn [1], line 2\u001b[0m\n\u001b[1;32m      1\u001b[0m \u001b[38;5;28;01mimport\u001b[39;00m \u001b[38;5;21;01mpandas\u001b[39;00m \u001b[38;5;28;01mas\u001b[39;00m \u001b[38;5;21;01mpd\u001b[39;00m\n\u001b[0;32m----> 2\u001b[0m \u001b[38;5;28;01mimport\u001b[39;00m \u001b[38;5;21;01mcnets\u001b[39;00m\n\u001b[1;32m      3\u001b[0m \u001b[38;5;28;01mfrom\u001b[39;00m \u001b[38;5;21;01mnetgross\u001b[39;00m\u001b[38;5;21;01m.\u001b[39;00m\u001b[38;5;21;01mnetwork\u001b[39;00m \u001b[38;5;28;01mimport\u001b[39;00m dirNetwork\n\u001b[1;32m      5\u001b[0m \u001b[38;5;28;01mimport\u001b[39;00m \u001b[38;5;21;01mintensity_fill\u001b[39;00m\n",
      "\u001b[0;31mModuleNotFoundError\u001b[0m: No module named 'cnets'"
     ]
    }
   ],
   "source": [
    "import pandas as pd\n",
    "import cnets\n",
    "from netgross.network import dirNetwork\n",
    "\n",
    "import intensity_fill\n",
    "\n",
    "%load_ext wurlitzer\n",
    "%matplotlib inline"
   ]
  },
  {
   "cell_type": "code",
   "execution_count": null,
   "metadata": {},
   "outputs": [
    {
     "name": "stderr",
     "output_type": "stream",
     "text": [
      "/home/djanloo/Desktop/dynamiting/intensity_fill.py:9: SettingWithCopyWarning: \n",
      "A value is trying to be set on a copy of a slice from a DataFrame\n",
      "\n",
      "See the caveats in the documentation: https://pandas.pydata.org/pandas-docs/stable/user_guide/indexing.html#returning-a-view-versus-a-copy\n",
      "  df.intensity[df.intensity.isna()] = I_from_std(df[\"std\"][df.intensity.isna()])\n"
     ]
    }
   ],
   "source": [
    "df = pd.read_csv(\"ravdess_features.csv\")\n",
    "\n",
    "excluded = [\n",
    "    \"modality\",\n",
    "    \"vocal_channel\",\n",
    "    \"emotional_intensity\",\n",
    "    \"statement\",\n",
    "    \"repetition\",\n",
    "     \"actor\",\n",
    "    \"channels\",\n",
    "    \"sample_width\",\n",
    "    \"frame_rate\",\n",
    "    \"frame_width\",\n",
    "    \"sample_width\",\n",
    "    \"stft_max\",\n",
    "    \"frame_count\",\n",
    "    \"length_ms\",\n",
    "    \"mean\",\n",
    "    \"max\",\"min\",\n",
    "    # \"kur\",\"skew\",\n",
    "]\n",
    "df.drop(columns=excluded, inplace=True)\n",
    "df = intensity_fill.fill_intensity(df)\n",
    "for field in [\"sex\", \"emotion\"]:\n",
    "    df[field] = pd.Categorical(df[field]).codes"
   ]
  },
  {
   "cell_type": "markdown",
   "metadata": {},
   "source": [
    "normalization"
   ]
  },
  {
   "cell_type": "code",
   "execution_count": null,
   "metadata": {},
   "outputs": [],
   "source": [
    "from sklearn.preprocessing import MinMaxScaler\n",
    "\n",
    "X = df.values\n",
    "\n",
    "scaler = MinMaxScaler()\n",
    "X_minmax = scaler.fit_transform(X)"
   ]
  },
  {
   "cell_type": "markdown",
   "metadata": {},
   "source": [
    "Manifold knn representation"
   ]
  },
  {
   "cell_type": "code",
   "execution_count": null,
   "metadata": {},
   "outputs": [
    {
     "name": "stdout",
     "output_type": "stream",
     "text": [
      "cnets - \u001b[0;34mINFO\u001b[0m: requested knn with k = 4 of 2452 objects in R22\n",
      "|▒▒▒▒▒▒▒▒▒▒▒▒▒▒▒▒▒▒▒▒▒▒▒▒▒▒▒▒▒▒▒▒▒▒▒▒▒▒▒▒▒▒▒▒▒▒▒▒▒▒▒▒▒▒▒▒▒▒|98 %\u001b[0;33m\u001b[0m\u001b[0;32m\u001b[2KK\n",
      "cnets - \u001b[0;34mINFO\u001b[0m: stupid_knn done.\n",
      "\u001b[0m\n",
      "Network has 2452 elements and 9773 links (density =  0.3 %)\n",
      "cnets - \u001b[0;34mINFO\u001b[0m: Generating network...\u001b[0m\u001b[0m\u001b[0m\u001b[0m\u001b[0m\tDone.\n",
      "cnets - \u001b[0;34mINFO\u001b[0m: Random initialization in R2...\u001b[0m\tDone.\n"
     ]
    },
    {
     "name": "stderr",
     "output_type": "stream",
     "text": [
      "\n",
      "cnets - \u001b[0;33mWARNING\u001b[0m: link(1012,1887) skipped - Distance must be a positive number (0.000000)\n",
      "\n",
      "cnets - \u001b[0;33mWARNING\u001b[0m: link(1887,1012) skipped - Distance must be a positive number (0.000000)\n",
      "\n",
      "cnets - \u001b[0;33mWARNING\u001b[0m: link(1887,1012) skipped - Distance must be a positive number (0.000000)\n",
      "\n",
      "cnets - \u001b[0;33mWARNING\u001b[0m: link(1012,1887) skipped - Distance must be a positive number (0.000000)\n"
     ]
    }
   ],
   "source": [
    "sparse_matrix = cnets.stupid_knn(X_minmax.tolist(), # note: first argument must be a python list\n",
    "                                4)\n",
    "print() # somehow jupyter notebooks mess up outputs\n",
    "net = dirNetwork.from_sparse(sparse_matrix)\n",
    "net.initialize_embedding(dim=2)"
   ]
  },
  {
   "cell_type": "code",
   "execution_count": null,
   "metadata": {},
   "outputs": [
    {
     "name": "stdout",
     "output_type": "stream",
     "text": [
      "cnets - \u001b[0;34mINFO\u001b[0m: starting MDE with eps = 0.800, neg_eps = 0.050, Nsteps = 500\n",
      "|▒▒▒▒▒▒▒▒▒▒▒▒▒▒▒▒▒▒▒▒▒▒▒▒▒▒▒▒▒▒▒▒▒▒▒▒▒▒▒▒▒▒▒▒▒▒▒▒▒▒▒▒▒▒▒▒▒▒|99 %\u001b[0;33m (D = 85.3344)\u001b[0m\u001b[0;32m\u001b[2KK\n",
      "cnets - \u001b[0;34mINFO\u001b[0m: MDE end\n",
      "\u001b[0mcnets - \u001b[0;34mINFO\u001b[0m: starting MDE with eps = 0.500, neg_eps = 0.010, Nsteps = 100\n",
      "|▒▒▒▒▒▒▒▒▒▒▒▒▒▒▒▒▒▒▒▒▒▒▒▒▒▒▒▒▒▒▒▒▒▒▒▒▒▒▒▒▒▒▒▒▒▒▒▒▒▒▒▒▒▒▒▒▒ |98 %\u001b[0;33m (D = 55.9521)\u001b[0m0m\u001b[0;32m\u001b[2K\n",
      "cnets - \u001b[0;34mINFO\u001b[0m: MDE end\n",
      "\u001b[0m"
     ]
    },
    {
     "ename": "KeyboardInterrupt",
     "evalue": "",
     "output_type": "error",
     "traceback": [
      "\u001b[0;31m---------------------------------------------------------------------------\u001b[0m",
      "\u001b[0;31mKeyboardInterrupt\u001b[0m                         Traceback (most recent call last)",
      "Cell \u001b[0;32mIn [11], line 2\u001b[0m\n\u001b[1;32m      1\u001b[0m \u001b[38;5;66;03m# note: first argument is a list of attractive factors, the second a list of repulsive ones and third a list of steps\u001b[39;00m\n\u001b[0;32m----> 2\u001b[0m net\u001b[38;5;241m.\u001b[39mcMDE([\u001b[38;5;241m0.8\u001b[39m, \u001b[38;5;241m0.5\u001b[39m, \u001b[38;5;241m0.1\u001b[39m], [\u001b[38;5;241m0.05\u001b[39m, \u001b[38;5;241m0.01\u001b[39m, \u001b[38;5;241m0.0\u001b[39m], [\u001b[38;5;241m500\u001b[39m, \u001b[38;5;241m100\u001b[39m, \u001b[38;5;241m3000\u001b[39m])\n",
      "File \u001b[0;32m~/.local/share/virtualenvs/dynamiting-oYIjB6ZE/lib/python3.10/site-packages/netgross/network.py:319\u001b[0m, in \u001b[0;36mcMDE\u001b[0;34m(self, step, neg_step, Nsteps)\u001b[0m\n",
      "\u001b[0;31mKeyboardInterrupt\u001b[0m: "
     ]
    }
   ],
   "source": [
    "# note: first argument is a list of attractive factors, the second a list of repulsive ones and third a list of steps\n",
    "net.cMDE([0.8, 0.5, 0.1], [0.05, 0.01, 0.0], [500, 100, 3000])"
   ]
  },
  {
   "cell_type": "code",
   "execution_count": null,
   "metadata": {},
   "outputs": [
    {
     "name": "stdout",
     "output_type": "stream",
     "text": [
      "Plot started:\n",
      "Getting graphics..\tDone.\n",
      "Updating scatter..\tDone.\n"
     ]
    },
    {
     "data": {
      "image/png": "[encoded data removed]",
      "text/plain": [
       "<Figure size 500x500 with 1 Axes>"
      ]
     },
     "metadata": {},
     "output_type": "display_data"
    }
   ],
   "source": [
    "from netgross import netplot\n",
    "from matplotlib import pyplot as plt\n",
    "\n",
    "net.values = df.emotion\n",
    "netplot.plot_lines = False # the denser the network, the more time-expensive plotting lines is\n",
    "netplot.line_kwargs['lw'] = 0.4\n",
    "netplot.plot_net(net, plot_activation=False)\n",
    "plt.show()"
   ]
  },
  {
   "cell_type": "code",
   "execution_count": null,
   "metadata": {},
   "outputs": [],
   "source": []
  }
 ],
 "metadata": {
  "kernelspec": {
   "display_name": "Python 3.10.4 ('dynamiting-oYIjB6ZE')",
   "language": "python",
   "name": "python3"
  },
  "language_info": {
   "codemirror_mode": {
    "name": "ipython",
    "version": 3
   },
   "file_extension": ".py",
   "mimetype": "text/x-python",
   "name": "python",
   "nbconvert_exporter": "python",
   "pygments_lexer": "ipython3",
   "version": "3.10.4"
  },
  "orig_nbformat": 4,
  "vscode": {
   "interpreter": {
    "hash": "34133c038c72c4258b9c1f21b48f2694561ff50c77c790ac74cdf754a813ead0"
   }
  }
 },
 "nbformat": 4,
 "nbformat_minor": 2
}
