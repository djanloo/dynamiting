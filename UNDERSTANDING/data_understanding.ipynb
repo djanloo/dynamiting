{
 "cells": [
  {
   "cell_type": "markdown",
   "metadata": {},
   "source": [
    "# Data Understanding\n",
    "For each subsection will b specified:\n",
    " - the related issue: e.g. (`#3`)\n",
    " - the assignee (`djanloo`, `tommy`)\n",
    "\n",
    "| Task | Issue | Assignee |\n",
    "| ----:| -----:| --------:|\n",
    "| **semantics**   | `#4`| `djanloo` |\n",
    "| **distribution** | `#4`| `djanloo` |\n",
    "| **quality**    | `#5`| `tommy`  |\n",
    "| **transformations**    | `#5`| `tommy`  |\n",
    "| **correlations**    | `#4`| `djanloo`  |"
   ]
  },
  {
   "cell_type": "markdown",
   "metadata": {},
   "source": [
    "### Semantics"
   ]
  },
  {
   "cell_type": "markdown",
   "metadata": {},
   "source": [
    "### Distribution"
   ]
  },
  {
   "cell_type": "markdown",
   "metadata": {},
   "source": [
    "### Quality"
   ]
  },
  {
   "cell_type": "markdown",
   "metadata": {},
   "source": [
    "### Transformations"
   ]
  },
  {
   "cell_type": "markdown",
   "metadata": {},
   "source": [
    "### Correlations"
   ]
  },
  {
   "cell_type": "markdown",
   "metadata": {},
   "source": []
  }
 ],
 "metadata": {
  "kernelspec": {
   "display_name": "Python 3.10.6 ('dynamiting-oYIjB6ZE')",
   "language": "python",
   "name": "python3"
  },
  "language_info": {
   "name": "python",
   "version": "3.10.6"
  },
  "orig_nbformat": 4,
  "vscode": {
   "interpreter": {
    "hash": "34133c038c72c4258b9c1f21b48f2694561ff50c77c790ac74cdf754a813ead0"
   }
  }
 },
 "nbformat": 4,
 "nbformat_minor": 2
}
